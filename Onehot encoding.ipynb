{
 "cells": [
  {
   "cell_type": "code",
   "execution_count": 5,
   "id": "dbec7055",
   "metadata": {},
   "outputs": [
    {
     "name": "stdout",
     "output_type": "stream",
     "text": [
      "  TEAM  POINTS\n",
      "0    A      37\n",
      "1    B      30\n",
      "2    C      32\n",
      "3    D      27\n",
      "4    E      23\n",
      "5    F      17\n",
      "6    G      15\n",
      "7    H      25\n"
     ]
    }
   ],
   "source": [
    "import pandas as pd\n",
    "df = pd.read_csv(\"team.csv\")\n",
    "print(df)"
   ]
  },
  {
   "cell_type": "code",
   "execution_count": 7,
   "id": "f3fd0892",
   "metadata": {},
   "outputs": [
    {
     "name": "stdout",
     "output_type": "stream",
     "text": [
      "  TEAM  POINTS    0    1    2    3    4    5    6    7\n",
      "0    A      37  1.0  0.0  0.0  0.0  0.0  0.0  0.0  0.0\n",
      "1    B      30  0.0  1.0  0.0  0.0  0.0  0.0  0.0  0.0\n",
      "2    C      32  0.0  0.0  1.0  0.0  0.0  0.0  0.0  0.0\n",
      "3    D      27  0.0  0.0  0.0  1.0  0.0  0.0  0.0  0.0\n",
      "4    E      23  0.0  0.0  0.0  0.0  1.0  0.0  0.0  0.0\n",
      "5    F      17  0.0  0.0  0.0  0.0  0.0  1.0  0.0  0.0\n",
      "6    G      15  0.0  0.0  0.0  0.0  0.0  0.0  1.0  0.0\n",
      "7    H      25  0.0  0.0  0.0  0.0  0.0  0.0  0.0  1.0\n"
     ]
    }
   ],
   "source": [
    "from sklearn.preprocessing import OneHotEncoder\n",
    "encoder = OneHotEncoder(handle_unknown='ignore') \n",
    "encoder_df = pd.DataFrame(encoder.fit_transform(df[['TEAM']]).toarray())\n",
    "final_df = df.join(encoder_df)\n",
    "print(final_df)"
   ]
  },
  {
   "cell_type": "code",
   "execution_count": 9,
   "id": "0fc89a0d",
   "metadata": {},
   "outputs": [
    {
     "name": "stdout",
     "output_type": "stream",
     "text": [
      "   POINTS    0    1    2    3    4    5    6    7\n",
      "0      37  1.0  0.0  0.0  0.0  0.0  0.0  0.0  0.0\n",
      "1      30  0.0  1.0  0.0  0.0  0.0  0.0  0.0  0.0\n",
      "2      32  0.0  0.0  1.0  0.0  0.0  0.0  0.0  0.0\n",
      "3      27  0.0  0.0  0.0  1.0  0.0  0.0  0.0  0.0\n",
      "4      23  0.0  0.0  0.0  0.0  1.0  0.0  0.0  0.0\n",
      "5      17  0.0  0.0  0.0  0.0  0.0  1.0  0.0  0.0\n",
      "6      15  0.0  0.0  0.0  0.0  0.0  0.0  1.0  0.0\n",
      "7      25  0.0  0.0  0.0  0.0  0.0  0.0  0.0  1.0\n"
     ]
    }
   ],
   "source": [
    "final_df.drop('TEAM', axis=1, inplace=True)\n",
    "print(final_df)"
   ]
  },
  {
   "cell_type": "markdown",
   "id": "f7731616",
   "metadata": {},
   "source": [
    "#### One-hot encoding can be used to transform one or more categorical features into numerical dummy features useful for training machine learning model. One-hot encoding is also called dummy encoding due to the fact that the transformation of categorical features results into dummy features. OneHotEncoder class of sklearn."
   ]
  },
  {
   "cell_type": "markdown",
   "id": "e6896d56",
   "metadata": {},
   "source": [
    "#### One-hot encoding is the process by which categorical data are converted into numerical data for use in machine learning. Categorical features are turned into binary features that are “one-hot” encoded, meaning that if a feature is represented by that column, it receives a 1 . Otherwise, it receives a 0 "
   ]
  },
  {
   "cell_type": "markdown",
   "id": "b9e1b79b",
   "metadata": {},
   "source": [
    "#### It imports the OneHotEncoder class from the sklearn.preprocessing module.\n",
    "#### It creates an instance of the OneHotEncoder class and assigns it to the variable encoder. The parameter handle_unknown='ignore' is set, which means that if unknown categories are encountered during encoding, it will ignore them instead of raising an error.\n",
    "#### It selects the column 'remote_ratio' from the DataFrame df and passes it to the fit_transform() method of the encoder object. This method performs the one-hot encoding and returns a sparse matrix.\n",
    "#### It converts the resulting sparse matrix into a DataFrame using pd.DataFrame(), and assigns it to the variable encoder_df.\n",
    "#### It joins the original DataFrame df with the encoded DataFrame encoder_df using the join() method. The resulting DataFrame is assigned to the variable final_df."
   ]
  }
 ],
 "metadata": {
  "kernelspec": {
   "display_name": "Python 3 (ipykernel)",
   "language": "python",
   "name": "python3"
  },
  "language_info": {
   "codemirror_mode": {
    "name": "ipython",
    "version": 3
   },
   "file_extension": ".py",
   "mimetype": "text/x-python",
   "name": "python",
   "nbconvert_exporter": "python",
   "pygments_lexer": "ipython3",
   "version": "3.9.13"
  }
 },
 "nbformat": 4,
 "nbformat_minor": 5
}
